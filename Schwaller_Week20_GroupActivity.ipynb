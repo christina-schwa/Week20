{
 "cells": [
  {
   "cell_type": "markdown",
   "metadata": {},
   "source": [
    "# Week 20 Group Activity"
   ]
  },
  {
   "cell_type": "markdown",
   "metadata": {},
   "source": [
    "### 1. Take the result of the following line of code (but use whatever available text you want) and write a function to concatenate the data back into sentences, with one readable sentence in each list.\n",
    "sentences = nltk.corpus.gutenberg.sents(\"carroll-alice.txt\")"
   ]
  },
  {
   "cell_type": "code",
   "execution_count": 1,
   "metadata": {},
   "outputs": [],
   "source": [
    "import nltk"
   ]
  },
  {
   "cell_type": "code",
   "execution_count": 33,
   "metadata": {},
   "outputs": [
    {
     "data": {
      "text/plain": [
       "['austen-emma.txt',\n",
       " 'austen-persuasion.txt',\n",
       " 'austen-sense.txt',\n",
       " 'bible-kjv.txt',\n",
       " 'blake-poems.txt',\n",
       " 'bryant-stories.txt',\n",
       " 'burgess-busterbrown.txt',\n",
       " 'carroll-alice.txt',\n",
       " 'chesterton-ball.txt',\n",
       " 'chesterton-brown.txt',\n",
       " 'chesterton-thursday.txt',\n",
       " 'edgeworth-parents.txt',\n",
       " 'melville-moby_dick.txt',\n",
       " 'milton-paradise.txt',\n",
       " 'shakespeare-caesar.txt',\n",
       " 'shakespeare-hamlet.txt',\n",
       " 'shakespeare-macbeth.txt',\n",
       " 'whitman-leaves.txt']"
      ]
     },
     "execution_count": 33,
     "metadata": {},
     "output_type": "execute_result"
    }
   ],
   "source": [
    "nltk.corpus.gutenberg.fileids()"
   ]
  },
  {
   "cell_type": "code",
   "execution_count": 40,
   "metadata": {},
   "outputs": [],
   "source": [
    "sentences = nltk.corpus.gutenberg.sents(\"melville-moby_dick.txt\")[:10]"
   ]
  },
  {
   "cell_type": "code",
   "execution_count": 41,
   "metadata": {},
   "outputs": [
    {
     "data": {
      "text/plain": [
       "[['[', 'Moby', 'Dick', 'by', 'Herman', 'Melville', '1851', ']'],\n",
       " ['ETYMOLOGY', '.'],\n",
       " ['(',\n",
       "  'Supplied',\n",
       "  'by',\n",
       "  'a',\n",
       "  'Late',\n",
       "  'Consumptive',\n",
       "  'Usher',\n",
       "  'to',\n",
       "  'a',\n",
       "  'Grammar',\n",
       "  'School',\n",
       "  ')'],\n",
       " ['The',\n",
       "  'pale',\n",
       "  'Usher',\n",
       "  '--',\n",
       "  'threadbare',\n",
       "  'in',\n",
       "  'coat',\n",
       "  ',',\n",
       "  'heart',\n",
       "  ',',\n",
       "  'body',\n",
       "  ',',\n",
       "  'and',\n",
       "  'brain',\n",
       "  ';',\n",
       "  'I',\n",
       "  'see',\n",
       "  'him',\n",
       "  'now',\n",
       "  '.'],\n",
       " ['He',\n",
       "  'was',\n",
       "  'ever',\n",
       "  'dusting',\n",
       "  'his',\n",
       "  'old',\n",
       "  'lexicons',\n",
       "  'and',\n",
       "  'grammars',\n",
       "  ',',\n",
       "  'with',\n",
       "  'a',\n",
       "  'queer',\n",
       "  'handkerchief',\n",
       "  ',',\n",
       "  'mockingly',\n",
       "  'embellished',\n",
       "  'with',\n",
       "  'all',\n",
       "  'the',\n",
       "  'gay',\n",
       "  'flags',\n",
       "  'of',\n",
       "  'all',\n",
       "  'the',\n",
       "  'known',\n",
       "  'nations',\n",
       "  'of',\n",
       "  'the',\n",
       "  'world',\n",
       "  '.'],\n",
       " ['He',\n",
       "  'loved',\n",
       "  'to',\n",
       "  'dust',\n",
       "  'his',\n",
       "  'old',\n",
       "  'grammars',\n",
       "  ';',\n",
       "  'it',\n",
       "  'somehow',\n",
       "  'mildly',\n",
       "  'reminded',\n",
       "  'him',\n",
       "  'of',\n",
       "  'his',\n",
       "  'mortality',\n",
       "  '.'],\n",
       " ['\"',\n",
       "  'While',\n",
       "  'you',\n",
       "  'take',\n",
       "  'in',\n",
       "  'hand',\n",
       "  'to',\n",
       "  'school',\n",
       "  'others',\n",
       "  ',',\n",
       "  'and',\n",
       "  'to',\n",
       "  'teach',\n",
       "  'them',\n",
       "  'by',\n",
       "  'what',\n",
       "  'name',\n",
       "  'a',\n",
       "  'whale',\n",
       "  '-',\n",
       "  'fish',\n",
       "  'is',\n",
       "  'to',\n",
       "  'be',\n",
       "  'called',\n",
       "  'in',\n",
       "  'our',\n",
       "  'tongue',\n",
       "  'leaving',\n",
       "  'out',\n",
       "  ',',\n",
       "  'through',\n",
       "  'ignorance',\n",
       "  ',',\n",
       "  'the',\n",
       "  'letter',\n",
       "  'H',\n",
       "  ',',\n",
       "  'which',\n",
       "  'almost',\n",
       "  'alone',\n",
       "  'maketh',\n",
       "  'the',\n",
       "  'signification',\n",
       "  'of',\n",
       "  'the',\n",
       "  'word',\n",
       "  ',',\n",
       "  'you',\n",
       "  'deliver',\n",
       "  'that',\n",
       "  'which',\n",
       "  'is',\n",
       "  'not',\n",
       "  'true',\n",
       "  '.\"'],\n",
       " ['--', 'HACKLUYT'],\n",
       " ['\"', 'WHALE', '.'],\n",
       " ['...', 'Sw', '.', 'and', 'Dan', '.']]"
      ]
     },
     "execution_count": 41,
     "metadata": {},
     "output_type": "execute_result"
    }
   ],
   "source": [
    "sentences"
   ]
  },
  {
   "cell_type": "code",
   "execution_count": 212,
   "metadata": {},
   "outputs": [],
   "source": [
    "def sentences_concat():\n",
    "    new_sentences = []\n",
    "    for x in sentences:\n",
    "        for y in x:\n",
    "            new_sentences.append(\" \".join(x))\n",
    "            break\n",
    "    #I know the next line is not very efficient, but I tried using an if/else statement for alphanumeric vs. non-alphanumeric characters, and it did not work.\n",
    "    result = ' '.join(new_sentences).replace(' ,',',').replace(' .','.').replace(' ;',';').replace('[ ', '[').replace(' ]',']').replace('( ', '(').replace(' )', ')').replace(' - ', '-').replace(' -- ','--')\n",
    "    return result\n",
    "#I couldn't figure out how to close up double-quote marks correctly, either."
   ]
  },
  {
   "cell_type": "code",
   "execution_count": 213,
   "metadata": {},
   "outputs": [
    {
     "data": {
      "text/plain": [
       "'[Moby Dick by Herman Melville 1851] ETYMOLOGY. (Supplied by a Late Consumptive Usher to a Grammar School) The pale Usher--threadbare in coat, heart, body, and brain; I see him now. He was ever dusting his old lexicons and grammars, with a queer handkerchief, mockingly embellished with all the gay flags of all the known nations of the world. He loved to dust his old grammars; it somehow mildly reminded him of his mortality. \" While you take in hand to school others, and to teach them by what name a whale-fish is to be called in our tongue leaving out, through ignorance, the letter H, which almost alone maketh the signification of the word, you deliver that which is not true.\"--HACKLUYT \" WHALE.... Sw. and Dan.'"
      ]
     },
     "execution_count": 213,
     "metadata": {},
     "output_type": "execute_result"
    }
   ],
   "source": [
    "sentences_concat()"
   ]
  },
  {
   "cell_type": "markdown",
   "metadata": {},
   "source": [
    "### 2. Create a function that accepts a list of values. Filter out all values that are numeric and return the new list.\n",
    "* Input:\n",
    "[1,2,'a','b',7.6]\n",
    "\n",
    "* output:\n",
    "[‘a’,’b’]"
   ]
  },
  {
   "cell_type": "code",
   "execution_count": 232,
   "metadata": {},
   "outputs": [],
   "source": [
    "def alpha_only(list):\n",
    "    alpha_list = []\n",
    "    for x in list:\n",
    "        if x == str(x):\n",
    "            alpha_list.append(x)\n",
    "        else:\n",
    "            pass\n",
    "    return alpha_list"
   ]
  },
  {
   "cell_type": "code",
   "execution_count": 233,
   "metadata": {},
   "outputs": [
    {
     "data": {
      "text/plain": [
       "['a', 'b']"
      ]
     },
     "execution_count": 233,
     "metadata": {},
     "output_type": "execute_result"
    }
   ],
   "source": [
    "alpha_only([1,2,'a','b',7.6])"
   ]
  },
  {
   "cell_type": "code",
   "execution_count": null,
   "metadata": {},
   "outputs": [],
   "source": [
    "#or..."
   ]
  },
  {
   "cell_type": "code",
   "execution_count": 235,
   "metadata": {},
   "outputs": [
    {
     "data": {
      "text/plain": [
       "['a', 'b']"
      ]
     },
     "execution_count": 235,
     "metadata": {},
     "output_type": "execute_result"
    }
   ],
   "source": [
    "list = [1,2,'a','b',7.6]\n",
    "alpha_only(list)"
   ]
  }
 ],
 "metadata": {
  "kernelspec": {
   "display_name": "Python 3",
   "language": "python",
   "name": "python3"
  },
  "language_info": {
   "codemirror_mode": {
    "name": "ipython",
    "version": 3
   },
   "file_extension": ".py",
   "mimetype": "text/x-python",
   "name": "python",
   "nbconvert_exporter": "python",
   "pygments_lexer": "ipython3",
   "version": "3.8.5"
  }
 },
 "nbformat": 4,
 "nbformat_minor": 4
}
